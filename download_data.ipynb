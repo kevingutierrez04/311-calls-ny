{
 "cells": [
  {
   "cell_type": "code",
   "execution_count": 8,
   "metadata": {},
   "outputs": [],
   "source": [
    "# load the data from API \n",
    "import pandas as pd\n",
    "from sodapy import Socrata\n",
    "from tqdm import tqdm\n",
    "import time"
   ]
  },
  {
   "cell_type": "code",
   "execution_count": 9,
   "metadata": {},
   "outputs": [
    {
     "name": "stderr",
     "output_type": "stream",
     "text": [
      "WARNING:root:Requests made without an app_token will be subject to strict throttling limits.\n",
      "100%|██████████| 10/10 [00:12<00:00,  1.28s/it]\n"
     ]
    },
    {
     "name": "stdout",
     "output_type": "stream",
     "text": [
      "✅ Saved 100000 rows to nyc_311_sample.csv\n"
     ]
    }
   ],
   "source": [
    "# Loading 311 data for New York City \n",
    "client = Socrata(\"data.cityofnewyork.us\", None)\n",
    "DATASET_ID = \"erm2-nwe9\"\n",
    "CHUNK_SIZE = 10000         \n",
    "MAX_RECORDS = 100000       \n",
    "OUTPUT_FILE = \"nyc_311_sample.csv\"\n",
    "\n",
    "all_results = []\n",
    "\n",
    "for offset in tqdm(range(0, MAX_RECORDS, CHUNK_SIZE)):\n",
    "    try:\n",
    "        results = client.get(\n",
    "            DATASET_ID,\n",
    "            limit=CHUNK_SIZE,\n",
    "            offset=offset,\n",
    "            order=\"created_date DESC\"  # newest first\n",
    "        )\n",
    "        if not results:\n",
    "            break\n",
    "        df_chunk = pd.DataFrame.from_records(results)\n",
    "        all_results.append(df_chunk)\n",
    "\n",
    "        time.sleep(0.2)\n",
    "\n",
    "    except Exception as e:\n",
    "        print(f\"Error at offset {offset}: {e}\")\n",
    "        break\n",
    "\n",
    "if all_results:\n",
    "    full_df = pd.concat(all_results, ignore_index=True)\n",
    "    full_df.to_csv(OUTPUT_FILE, index=False)\n",
    "    print(f\"Saved {len(full_df)} rows to {OUTPUT_FILE}\")\n",
    "else:\n",
    "    print(\"No data retrieved.\")"
   ]
  },
  {
   "cell_type": "code",
   "execution_count": 16,
   "metadata": {},
   "outputs": [
    {
     "ename": "NameError",
     "evalue": "name 'requests' is not defined",
     "output_type": "error",
     "traceback": [
      "\u001b[0;31m---------------------------------------------------------------------------\u001b[0m",
      "\u001b[0;31mNameError\u001b[0m                                 Traceback (most recent call last)",
      "Cell \u001b[0;32mIn[16], line 16\u001b[0m\n\u001b[1;32m     12\u001b[0m \u001b[38;5;28;01mfor\u001b[39;00m boro, fips \u001b[38;5;129;01min\u001b[39;00m borough_map\u001b[38;5;241m.\u001b[39mitems ():\n\u001b[1;32m     13\u001b[0m     \u001b[38;5;66;03m# state36 = NY\u001b[39;00m\n\u001b[1;32m     14\u001b[0m     \u001b[38;5;66;03m#APT •calli\u001b[39;00m\n\u001b[1;32m     15\u001b[0m     url \u001b[38;5;241m=\u001b[39m \u001b[38;5;124mf\u001b[39m\u001b[38;5;124m\"\u001b[39m\u001b[38;5;124mhttps://api.census.gov/data/2023/acs/acs1?get=B19013_001E&for=county:\u001b[39m\u001b[38;5;132;01m{\u001b[39;00mfips\u001b[38;5;132;01m}\u001b[39;00m\u001b[38;5;124m&in=state:36&key=b615b96b9abca0f75f96cf64ef5bbe3cfcf19bfe\u001b[39m\u001b[38;5;124m\"\u001b[39m\n\u001b[0;32m---> 16\u001b[0m     r \u001b[38;5;241m=\u001b[39m \u001b[43mrequests\u001b[49m\u001b[38;5;241m.\u001b[39mget(url)\n\u001b[1;32m     17\u001b[0m     \u001b[38;5;28;01mif\u001b[39;00m r\u001b[38;5;241m.\u001b[39mstatus_code \u001b[38;5;241m==\u001b[39m \u001b[38;5;241m200\u001b[39m:\n\u001b[1;32m     18\u001b[0m         data \u001b[38;5;241m=\u001b[39m r\u001b[38;5;241m.\u001b[39mjson()\n",
      "\u001b[0;31mNameError\u001b[0m: name 'requests' is not defined"
     ]
    }
   ],
   "source": [
    "# Load data for census\n",
    "\n",
    "#dataset3• (API)\n",
    "borough_map = {\n",
    "    'MANHATTAN': '061', #•FIPS• for New York County\n",
    "    'BROOKLYN': '047',\n",
    "    'QUEENS': '081',\n",
    "    'BRONX': '005',\n",
    "    'STATEN ISLAND': '085'# Richmond • County\n",
    "}\n",
    "median_income_data = []\n",
    "for boro, fips in borough_map.items ():\n",
    "    # state36 = NY\n",
    "    #APT •calli\n",
    "    url = f\"https://api.census.gov/data/2023/acs/acs1?get=B19013_001E&for=county:{fips}&in=state:36&key=b615b96b9abca0f75f96cf64ef5bbe3cfcf19bfe\"\n",
    "    r = requests.get(url)\n",
    "    if r.status_code == 200:\n",
    "        data = r.json()\n",
    "        median_income_data.append((boro, data [1][0])) #•data [1] [0] •= median income, • from documentation\n",
    "\n",
    "df_income = pd.DataFrame(median_income_data, columns=['Work Location Borough', 'median_income'])\n",
    "\n",
    "df_final = pd-merge(\n",
    "    df_merged,\n",
    "    df_income,\n",
    "    how='left', on='Work-Location Borough'\n",
    ")"
   ]
  }
 ],
 "metadata": {
  "kernelspec": {
   "display_name": "Python 3",
   "language": "python",
   "name": "python3"
  },
  "language_info": {
   "codemirror_mode": {
    "name": "ipython",
    "version": 3
   },
   "file_extension": ".py",
   "mimetype": "text/x-python",
   "name": "python",
   "nbconvert_exporter": "python",
   "pygments_lexer": "ipython3",
   "version": "3.11.3"
  }
 },
 "nbformat": 4,
 "nbformat_minor": 2
}
