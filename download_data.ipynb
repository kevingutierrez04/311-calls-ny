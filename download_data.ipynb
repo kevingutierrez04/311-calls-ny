{
 "cells": [
  {
   "cell_type": "code",
   "execution_count": 8,
   "metadata": {},
   "outputs": [],
   "source": [
    "# load the data from API \n",
    "import pandas as pd\n",
    "from sodapy import Socrata\n",
    "from tqdm import tqdm\n",
    "import time"
   ]
  },
  {
   "cell_type": "code",
   "execution_count": 9,
   "metadata": {},
   "outputs": [
    {
     "name": "stderr",
     "output_type": "stream",
     "text": [
      "WARNING:root:Requests made without an app_token will be subject to strict throttling limits.\n",
      "100%|██████████| 10/10 [00:12<00:00,  1.28s/it]\n"
     ]
    },
    {
     "name": "stdout",
     "output_type": "stream",
     "text": [
      "✅ Saved 100000 rows to nyc_311_sample.csv\n"
     ]
    }
   ],
   "source": [
    "# Loading 311 data for New York City \n",
    "client = Socrata(\"data.cityofnewyork.us\", None)\n",
    "DATASET_ID = \"erm2-nwe9\"\n",
    "CHUNK_SIZE = 10000         \n",
    "MAX_RECORDS = 100000       \n",
    "OUTPUT_FILE = \"nyc_311_sample.csv\"\n",
    "\n",
    "all_results = []\n",
    "\n",
    "for offset in tqdm(range(0, MAX_RECORDS, CHUNK_SIZE)):\n",
    "    try:\n",
    "        results = client.get(\n",
    "            DATASET_ID,\n",
    "            limit=CHUNK_SIZE,\n",
    "            offset=offset,\n",
    "            order=\"created_date DESC\"  # newest first\n",
    "        )\n",
    "        if not results:\n",
    "            break\n",
    "        df_chunk = pd.DataFrame.from_records(results)\n",
    "        all_results.append(df_chunk)\n",
    "\n",
    "        time.sleep(0.2)\n",
    "\n",
    "    except Exception as e:\n",
    "        print(f\"Error at offset {offset}: {e}\")\n",
    "        break\n",
    "\n",
    "if all_results:\n",
    "    full_df = pd.concat(all_results, ignore_index=True)\n",
    "    full_df.to_csv(OUTPUT_FILE, index=False)\n",
    "    print(f\"✅ Saved {len(full_df)} rows to {OUTPUT_FILE}\")\n",
    "else:\n",
    "    print(\"⚠️ No data retrieved.\")"
   ]
  },
  {
   "cell_type": "code",
   "execution_count": 10,
   "metadata": {},
   "outputs": [
    {
     "name": "stdout",
     "output_type": "stream",
     "text": [
      "   unique_key             created_date agency  \\\n",
      "0    64720753  2025-04-23T01:51:16.000   NYPD   \n",
      "1    64725906  2025-04-23T01:51:14.000   NYPD   \n",
      "2    64722271  2025-04-23T01:51:09.000   NYPD   \n",
      "3    64727864  2025-04-23T01:50:41.000   NYPD   \n",
      "4    64725747  2025-04-23T01:50:06.000   NYPD   \n",
      "\n",
      "                       agency_name           complaint_type  \\\n",
      "0  New York City Police Department          Noise - Vehicle   \n",
      "1  New York City Police Department  Noise - Street/Sidewalk   \n",
      "2  New York City Police Department          Illegal Parking   \n",
      "3  New York City Police Department          Illegal Parking   \n",
      "4  New York City Police Department                 Drinking   \n",
      "\n",
      "                      descriptor        location_type  incident_zip  \\\n",
      "0                Car/Truck Music      Street/Sidewalk       11208.0   \n",
      "1               Loud Music/Party      Street/Sidewalk       11206.0   \n",
      "2  Posted Parking Sign Violation      Street/Sidewalk       11205.0   \n",
      "3                Blocked Hydrant      Street/Sidewalk       10461.0   \n",
      "4     After Hours - Licensed Est  Club/Bar/Restaurant       10458.0   \n",
      "\n",
      "            incident_address            street_name  ...  \\\n",
      "0      2858 LINDEN BOULEVARD       LINDEN BOULEVARD  ...   \n",
      "1         406 LORIMER STREET         LORIMER STREET  ...   \n",
      "2  125 NORTH PORTLAND AVENUE  NORTH PORTLAND AVENUE  ...   \n",
      "3      2873 EAST  195 STREET       EAST  195 STREET  ...   \n",
      "4        2447 HOFFMAN STREET         HOFFMAN STREET  ...   \n",
      "\n",
      "  resolution_description closed_date taxi_pick_up_location facility_type  \\\n",
      "0                    NaN         NaN                   NaN           NaN   \n",
      "1                    NaN         NaN                   NaN           NaN   \n",
      "2                    NaN         NaN                   NaN           NaN   \n",
      "3                    NaN         NaN                   NaN           NaN   \n",
      "4                    NaN         NaN                   NaN           NaN   \n",
      "\n",
      "  bridge_highway_name bridge_highway_direction road_ramp  \\\n",
      "0                 NaN                      NaN       NaN   \n",
      "1                 NaN                      NaN       NaN   \n",
      "2                 NaN                      NaN       NaN   \n",
      "3                 NaN                      NaN       NaN   \n",
      "4                 NaN                      NaN       NaN   \n",
      "\n",
      "  bridge_highway_segment taxi_company_borough  due_date  \n",
      "0                    NaN                  NaN       NaN  \n",
      "1                    NaN                  NaN       NaN  \n",
      "2                    NaN                  NaN       NaN  \n",
      "3                    NaN                  NaN       NaN  \n",
      "4                    NaN                  NaN       NaN  \n",
      "\n",
      "[5 rows x 41 columns]\n"
     ]
    }
   ],
   "source": [
    "nyc_311 = pd.read_csv(\"nyc_311_sample.csv\")\n",
    "\n",
    "print(nyc_311.head())"
   ]
  },
  {
   "cell_type": "code",
   "execution_count": null,
   "metadata": {},
   "outputs": [],
   "source": [
    "# Load data for \n"
   ]
  }
 ],
 "metadata": {
  "kernelspec": {
   "display_name": "Python 3",
   "language": "python",
   "name": "python3"
  },
  "language_info": {
   "codemirror_mode": {
    "name": "ipython",
    "version": 3
   },
   "file_extension": ".py",
   "mimetype": "text/x-python",
   "name": "python",
   "nbconvert_exporter": "python",
   "pygments_lexer": "ipython3",
   "version": "3.11.3"
  }
 },
 "nbformat": 4,
 "nbformat_minor": 2
}
